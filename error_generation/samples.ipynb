{
 "cells": [
  {
   "cell_type": "code",
   "execution_count": 1,
   "id": "a06b4cd8-6bd2-4321-a4ac-2beea45d67db",
   "metadata": {},
   "outputs": [],
   "source": [
    "%load_ext autoreload\n",
    "%autoreload 2"
   ]
  },
  {
   "cell_type": "markdown",
   "id": "74855e3b-472f-4d3f-834b-adb36adc0419",
   "metadata": {},
   "source": [
    "# Use `low_level` API to create `Mojibake` in one column"
   ]
  },
  {
   "cell_type": "code",
   "execution_count": 282,
   "id": "3b62f455-52b2-474b-9ba0-ba4d24e56ae1",
   "metadata": {},
   "outputs": [],
   "source": [
    "import pandas as pd\n",
    "\n",
    "from error_generation.api.low_level import create_errors\n",
    "from error_generation.error_mechanism import ECAR\n",
    "from error_generation.error_type import Mojibake"
   ]
  },
  {
   "cell_type": "code",
   "execution_count": 283,
   "id": "92c3a871-3078-4552-b9e6-d583e36e2ec2",
   "metadata": {},
   "outputs": [],
   "source": [
    "config = {\"error_rate\": 1.0, \"mechanism\": ECAR, \"error_type\": Mojibake}"
   ]
  },
  {
   "cell_type": "code",
   "execution_count": 286,
   "id": "3e705b44-36c4-459b-ba78-55ab83fbbb68",
   "metadata": {},
   "outputs": [],
   "source": [
    "df_mojibake = pd.DataFrame({\"a\": [0, 1, 2], \"b\": [\"Ente\", \"Haus\", \"Grünfelder Straße 17, 13357 Öppeln\"]})"
   ]
  },
  {
   "cell_type": "code",
   "execution_count": 288,
   "id": "11c576a2-1cd1-4fad-829e-bc036230051c",
   "metadata": {},
   "outputs": [],
   "source": [
    "df_corrupted, error_mask = create_errors(df_mojibake, \"b\", config)"
   ]
  },
  {
   "cell_type": "code",
   "execution_count": 290,
   "id": "288759e4-f634-49d6-a285-deb0e0abf999",
   "metadata": {},
   "outputs": [
    {
     "data": {
      "text/html": [
       "<div>\n",
       "<style scoped>\n",
       "    .dataframe tbody tr th:only-of-type {\n",
       "        vertical-align: middle;\n",
       "    }\n",
       "\n",
       "    .dataframe tbody tr th {\n",
       "        vertical-align: top;\n",
       "    }\n",
       "\n",
       "    .dataframe thead th {\n",
       "        text-align: right;\n",
       "    }\n",
       "</style>\n",
       "<table border=\"1\" class=\"dataframe\">\n",
       "  <thead>\n",
       "    <tr style=\"text-align: right;\">\n",
       "      <th></th>\n",
       "      <th>a</th>\n",
       "      <th>b</th>\n",
       "    </tr>\n",
       "  </thead>\n",
       "  <tbody>\n",
       "    <tr>\n",
       "      <th>0</th>\n",
       "      <td>0</td>\n",
       "      <td>Ente</td>\n",
       "    </tr>\n",
       "    <tr>\n",
       "      <th>1</th>\n",
       "      <td>1</td>\n",
       "      <td>Haus</td>\n",
       "    </tr>\n",
       "    <tr>\n",
       "      <th>2</th>\n",
       "      <td>2</td>\n",
       "      <td>Grã‰¨nfelder Strae 17, 13357 ppeln</td>\n",
       "    </tr>\n",
       "  </tbody>\n",
       "</table>\n",
       "</div>"
      ],
      "text/plain": [
       "   a                                   b\n",
       "0  0                                Ente\n",
       "1  1                                Haus\n",
       "2  2  Grã‰¨nfelder Strae 17, 13357 ppeln"
      ]
     },
     "execution_count": 290,
     "metadata": {},
     "output_type": "execute_result"
    }
   ],
   "source": [
    "df_corrupted"
   ]
  }
 ],
 "metadata": {
  "kernelspec": {
   "display_name": "Python 3 (ipykernel)",
   "language": "python",
   "name": "python3"
  },
  "language_info": {
   "codemirror_mode": {
    "name": "ipython",
    "version": 3
   },
   "file_extension": ".py",
   "mimetype": "text/x-python",
   "name": "python",
   "nbconvert_exporter": "python",
   "pygments_lexer": "ipython3",
   "version": "3.10.12"
  }
 },
 "nbformat": 4,
 "nbformat_minor": 5
}
