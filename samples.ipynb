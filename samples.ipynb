{
 "cells": [
  {
   "cell_type": "code",
   "execution_count": 45,
   "id": "a06b4cd8-6bd2-4321-a4ac-2beea45d67db",
   "metadata": {},
   "outputs": [
    {
     "name": "stdout",
     "output_type": "stream",
     "text": [
      "The autoreload extension is already loaded. To reload it, use:\n",
      "  %reload_ext autoreload\n"
     ]
    }
   ],
   "source": [
    "%load_ext autoreload\n",
    "%autoreload 2"
   ]
  },
  {
   "cell_type": "markdown",
   "id": "74855e3b-472f-4d3f-834b-adb36adc0419",
   "metadata": {},
   "source": [
    "# Use `low_level` API to create `Mojibake` in one column"
   ]
  },
  {
   "cell_type": "code",
   "execution_count": 46,
   "id": "3b62f455-52b2-474b-9ba0-ba4d24e56ae1",
   "metadata": {},
   "outputs": [],
   "source": [
    "import pandas as pd\n",
    "\n",
    "from error_generation.api.low_level import create_errors\n",
    "from error_generation.error_mechanism import ECAR\n",
    "from error_generation.error_type import Butterfinger, Mislabel, MissingValue, Mojibake, Permutate, WrongUnit"
   ]
  },
  {
   "cell_type": "code",
   "execution_count": 47,
   "id": "f09057a2-ae58-4012-bd4a-82b678aabfa0",
   "metadata": {},
   "outputs": [],
   "source": [
    "ecar = ECAR(error_rate=1.0)"
   ]
  },
  {
   "cell_type": "markdown",
   "id": "0ff517d2-761d-435c-ac21-e2d6cf3bc411",
   "metadata": {},
   "source": [
    "## Permutation"
   ]
  },
  {
   "cell_type": "code",
   "execution_count": 49,
   "id": "dff2611e-b16b-4104-ba1d-4696a18c8330",
   "metadata": {},
   "outputs": [],
   "source": [
    "data = {\"A\": [\"apple\", \"banana\", \"cherry\", \"pineapple\"], \"B\": [\"red apple\", \"yellow banana\", \"dark cherry\", \"blue pineapple\"], \"C\": [10, 20, 30, 40]}\n",
    "df_permutate = pd.DataFrame(data)"
   ]
  },
  {
   "cell_type": "code",
   "execution_count": 52,
   "id": "16529889-cc14-48ae-914a-53a99b1ed676",
   "metadata": {},
   "outputs": [],
   "source": [
    "permutate = Permutate({\"permutation_separator\": \" \", \"permutation_pattern\": \"fixed\"})"
   ]
  },
  {
   "cell_type": "code",
   "execution_count": 53,
   "id": "9b399f77-83da-470f-910b-5b161566577a",
   "metadata": {},
   "outputs": [],
   "source": [
    "df_corrupted, error_mask = create_errors(df_permutate, \"B\", ecar, permutate)"
   ]
  },
  {
   "cell_type": "code",
   "execution_count": 54,
   "id": "1221cb45-2f54-4167-8ebb-26b4f6723555",
   "metadata": {},
   "outputs": [
    {
     "data": {
      "text/html": [
       "<div>\n",
       "<style scoped>\n",
       "    .dataframe tbody tr th:only-of-type {\n",
       "        vertical-align: middle;\n",
       "    }\n",
       "\n",
       "    .dataframe tbody tr th {\n",
       "        vertical-align: top;\n",
       "    }\n",
       "\n",
       "    .dataframe thead th {\n",
       "        text-align: right;\n",
       "    }\n",
       "</style>\n",
       "<table border=\"1\" class=\"dataframe\">\n",
       "  <thead>\n",
       "    <tr style=\"text-align: right;\">\n",
       "      <th></th>\n",
       "      <th>A</th>\n",
       "      <th>B</th>\n",
       "      <th>C</th>\n",
       "    </tr>\n",
       "  </thead>\n",
       "  <tbody>\n",
       "    <tr>\n",
       "      <th>0</th>\n",
       "      <td>apple</td>\n",
       "      <td>apple red</td>\n",
       "      <td>10</td>\n",
       "    </tr>\n",
       "    <tr>\n",
       "      <th>1</th>\n",
       "      <td>banana</td>\n",
       "      <td>banana yellow</td>\n",
       "      <td>20</td>\n",
       "    </tr>\n",
       "    <tr>\n",
       "      <th>2</th>\n",
       "      <td>cherry</td>\n",
       "      <td>cherry dark</td>\n",
       "      <td>30</td>\n",
       "    </tr>\n",
       "    <tr>\n",
       "      <th>3</th>\n",
       "      <td>pineapple</td>\n",
       "      <td>pineapple blue</td>\n",
       "      <td>40</td>\n",
       "    </tr>\n",
       "  </tbody>\n",
       "</table>\n",
       "</div>"
      ],
      "text/plain": [
       "           A               B   C\n",
       "0      apple       apple red  10\n",
       "1     banana   banana yellow  20\n",
       "2     cherry     cherry dark  30\n",
       "3  pineapple  pineapple blue  40"
      ]
     },
     "execution_count": 54,
     "metadata": {},
     "output_type": "execute_result"
    }
   ],
   "source": [
    "df_corrupted"
   ]
  },
  {
   "cell_type": "markdown",
   "id": "bdd6cfc7-2c00-4956-b10f-cdd154f00955",
   "metadata": {},
   "source": [
    "## Mojibake"
   ]
  },
  {
   "cell_type": "code",
   "execution_count": 38,
   "id": "92c3a871-3078-4552-b9e6-d583e36e2ec2",
   "metadata": {},
   "outputs": [],
   "source": [
    "mojibake = Mojibake()"
   ]
  },
  {
   "cell_type": "code",
   "execution_count": 39,
   "id": "3e705b44-36c4-459b-ba78-55ab83fbbb68",
   "metadata": {},
   "outputs": [],
   "source": [
    "df_mojibake = pd.DataFrame({\"a\": [0, 1, 2], \"b\": [\"Ente\", \"Haus\", \"Grünfelder Straße 17, 13357 Öppeln\"]})"
   ]
  },
  {
   "cell_type": "code",
   "execution_count": 40,
   "id": "11c576a2-1cd1-4fad-829e-bc036230051c",
   "metadata": {},
   "outputs": [],
   "source": [
    "df_corrupted, error_mask = create_errors(df_mojibake, \"b\", ecar, mojibake)"
   ]
  },
  {
   "cell_type": "code",
   "execution_count": 41,
   "id": "288759e4-f634-49d6-a285-deb0e0abf999",
   "metadata": {},
   "outputs": [
    {
     "data": {
      "text/html": [
       "<div>\n",
       "<style scoped>\n",
       "    .dataframe tbody tr th:only-of-type {\n",
       "        vertical-align: middle;\n",
       "    }\n",
       "\n",
       "    .dataframe tbody tr th {\n",
       "        vertical-align: top;\n",
       "    }\n",
       "\n",
       "    .dataframe thead th {\n",
       "        text-align: right;\n",
       "    }\n",
       "</style>\n",
       "<table border=\"1\" class=\"dataframe\">\n",
       "  <thead>\n",
       "    <tr style=\"text-align: right;\">\n",
       "      <th></th>\n",
       "      <th>a</th>\n",
       "      <th>b</th>\n",
       "    </tr>\n",
       "  </thead>\n",
       "  <tbody>\n",
       "    <tr>\n",
       "      <th>0</th>\n",
       "      <td>0</td>\n",
       "      <td>Ente</td>\n",
       "    </tr>\n",
       "    <tr>\n",
       "      <th>1</th>\n",
       "      <td>1</td>\n",
       "      <td>Haus</td>\n",
       "    </tr>\n",
       "    <tr>\n",
       "      <th>2</th>\n",
       "      <td>2</td>\n",
       "      <td>Grnfelder Strae 17, 13357 ppeln</td>\n",
       "    </tr>\n",
       "  </tbody>\n",
       "</table>\n",
       "</div>"
      ],
      "text/plain": [
       "   a                                b\n",
       "0  0                             Ente\n",
       "1  1                             Haus\n",
       "2  2  Grnfelder Strae 17, 13357 ppeln"
      ]
     },
     "execution_count": 41,
     "metadata": {},
     "output_type": "execute_result"
    }
   ],
   "source": [
    "df_corrupted"
   ]
  },
  {
   "cell_type": "markdown",
   "id": "2aee8cbe-ea80-4e32-ac5d-d002d1198c10",
   "metadata": {},
   "source": [
    "## Butterfinger"
   ]
  },
  {
   "cell_type": "code",
   "execution_count": 102,
   "id": "8f5fa21b-0af8-43ae-9ac4-daa7c09c592a",
   "metadata": {},
   "outputs": [],
   "source": [
    "butterfinger = Butterfinger()"
   ]
  },
  {
   "cell_type": "code",
   "execution_count": 103,
   "id": "1b5a2be4-671e-465b-bad2-469f9108bea6",
   "metadata": {},
   "outputs": [],
   "source": [
    "df_butterfinger = pd.DataFrame({\"a\": [0, 1, 2], \"b\": [\"Entspannung\", \"Genugtuung\", \"Ausgeglichenheit\"]})"
   ]
  },
  {
   "cell_type": "code",
   "execution_count": 104,
   "id": "438a011a-6ff7-4428-91e9-df3cf5790323",
   "metadata": {},
   "outputs": [],
   "source": [
    "df_corrupted, error_mask = create_errors(df_butterfinger, \"b\", ecar, butterfinger)"
   ]
  },
  {
   "cell_type": "code",
   "execution_count": 105,
   "id": "5fb3f20d-8e30-47fa-aa8d-aeb541264b81",
   "metadata": {},
   "outputs": [
    {
     "data": {
      "text/html": [
       "<div>\n",
       "<style scoped>\n",
       "    .dataframe tbody tr th:only-of-type {\n",
       "        vertical-align: middle;\n",
       "    }\n",
       "\n",
       "    .dataframe tbody tr th {\n",
       "        vertical-align: top;\n",
       "    }\n",
       "\n",
       "    .dataframe thead th {\n",
       "        text-align: right;\n",
       "    }\n",
       "</style>\n",
       "<table border=\"1\" class=\"dataframe\">\n",
       "  <thead>\n",
       "    <tr style=\"text-align: right;\">\n",
       "      <th></th>\n",
       "      <th>a</th>\n",
       "      <th>b</th>\n",
       "    </tr>\n",
       "  </thead>\n",
       "  <tbody>\n",
       "    <tr>\n",
       "      <th>0</th>\n",
       "      <td>0</td>\n",
       "      <td>Entspannyng</td>\n",
       "    </tr>\n",
       "    <tr>\n",
       "      <th>1</th>\n",
       "      <td>1</td>\n",
       "      <td>Genugyuung</td>\n",
       "    </tr>\n",
       "    <tr>\n",
       "      <th>2</th>\n",
       "      <td>2</td>\n",
       "      <td>Ausgeglichenhejt</td>\n",
       "    </tr>\n",
       "  </tbody>\n",
       "</table>\n",
       "</div>"
      ],
      "text/plain": [
       "   a                 b\n",
       "0  0       Entspannyng\n",
       "1  1        Genugyuung\n",
       "2  2  Ausgeglichenhejt"
      ]
     },
     "execution_count": 105,
     "metadata": {},
     "output_type": "execute_result"
    }
   ],
   "source": [
    "df_corrupted"
   ]
  },
  {
   "cell_type": "markdown",
   "id": "971fc620-ef9d-452d-b576-2dbfcb99cd4b",
   "metadata": {},
   "source": [
    "## Wrong Unit"
   ]
  },
  {
   "cell_type": "code",
   "execution_count": 97,
   "id": "53d9ebc6-7e12-4736-9734-babf114fa479",
   "metadata": {},
   "outputs": [],
   "source": [
    "wrong_unit = WrongUnit({\"wrong_unit_scaling\": lambda x: x / 1000})"
   ]
  },
  {
   "cell_type": "code",
   "execution_count": 98,
   "id": "eac606df-8b0d-4e54-8d8a-89a0cf7f03f0",
   "metadata": {},
   "outputs": [],
   "source": [
    "df_wrong_unit = pd.DataFrame({\"a\": [0, 1, 2], \"b\": [40, 50, 60]})"
   ]
  },
  {
   "cell_type": "code",
   "execution_count": 99,
   "id": "ac3689be-7d15-4b0a-9f2e-388e5fe4e449",
   "metadata": {},
   "outputs": [],
   "source": [
    "df_corrupted, error_mask = create_errors(df_wrong_unit, 1, ecar, wrong_unit)"
   ]
  },
  {
   "cell_type": "code",
   "execution_count": 100,
   "id": "656082b2-8cac-495a-aa59-eb662888cfc5",
   "metadata": {},
   "outputs": [
    {
     "data": {
      "text/html": [
       "<div>\n",
       "<style scoped>\n",
       "    .dataframe tbody tr th:only-of-type {\n",
       "        vertical-align: middle;\n",
       "    }\n",
       "\n",
       "    .dataframe tbody tr th {\n",
       "        vertical-align: top;\n",
       "    }\n",
       "\n",
       "    .dataframe thead th {\n",
       "        text-align: right;\n",
       "    }\n",
       "</style>\n",
       "<table border=\"1\" class=\"dataframe\">\n",
       "  <thead>\n",
       "    <tr style=\"text-align: right;\">\n",
       "      <th></th>\n",
       "      <th>a</th>\n",
       "      <th>b</th>\n",
       "    </tr>\n",
       "  </thead>\n",
       "  <tbody>\n",
       "    <tr>\n",
       "      <th>0</th>\n",
       "      <td>0</td>\n",
       "      <td>0.04</td>\n",
       "    </tr>\n",
       "    <tr>\n",
       "      <th>1</th>\n",
       "      <td>1</td>\n",
       "      <td>0.05</td>\n",
       "    </tr>\n",
       "    <tr>\n",
       "      <th>2</th>\n",
       "      <td>2</td>\n",
       "      <td>0.06</td>\n",
       "    </tr>\n",
       "  </tbody>\n",
       "</table>\n",
       "</div>"
      ],
      "text/plain": [
       "   a     b\n",
       "0  0  0.04\n",
       "1  1  0.05\n",
       "2  2  0.06"
      ]
     },
     "execution_count": 100,
     "metadata": {},
     "output_type": "execute_result"
    }
   ],
   "source": [
    "df_corrupted"
   ]
  },
  {
   "cell_type": "markdown",
   "id": "d8d9e4ea-6575-4802-b565-b0345ff3a86f",
   "metadata": {},
   "source": [
    "## Mislabel"
   ]
  },
  {
   "cell_type": "code",
   "execution_count": 108,
   "id": "6332c825-5cf3-421c-bb2e-f03cb55c34e6",
   "metadata": {},
   "outputs": [],
   "source": [
    "mislabel = Mislabel()"
   ]
  },
  {
   "cell_type": "code",
   "execution_count": 109,
   "id": "19228ba0-0f7f-49b5-b96e-25e0afddcce4",
   "metadata": {},
   "outputs": [],
   "source": [
    "df_mislabel = pd.DataFrame({\"a\": [1, 2, 3], \"b\": [\"blau\", \"gelb\", \"blau\"]})"
   ]
  },
  {
   "cell_type": "code",
   "execution_count": 111,
   "id": "cb8fb996-617f-45b5-9b05-da843c0e885f",
   "metadata": {},
   "outputs": [],
   "source": [
    "df_mislabel[\"b\"] = df_mislabel[\"b\"].astype(\"category\")"
   ]
  },
  {
   "cell_type": "code",
   "execution_count": 119,
   "id": "a43eb3a6-4b34-4a59-b0b6-51acc0dce0d2",
   "metadata": {},
   "outputs": [],
   "source": [
    "df_corrupted, error_mask = create_errors(df_mislabel, \"b\", ecar, mislabel)"
   ]
  },
  {
   "cell_type": "code",
   "execution_count": 121,
   "id": "8f064b77-b988-4c60-8363-42f93c90439c",
   "metadata": {},
   "outputs": [
    {
     "data": {
      "text/html": [
       "<div>\n",
       "<style scoped>\n",
       "    .dataframe tbody tr th:only-of-type {\n",
       "        vertical-align: middle;\n",
       "    }\n",
       "\n",
       "    .dataframe tbody tr th {\n",
       "        vertical-align: top;\n",
       "    }\n",
       "\n",
       "    .dataframe thead th {\n",
       "        text-align: right;\n",
       "    }\n",
       "</style>\n",
       "<table border=\"1\" class=\"dataframe\">\n",
       "  <thead>\n",
       "    <tr style=\"text-align: right;\">\n",
       "      <th></th>\n",
       "      <th>a</th>\n",
       "      <th>b</th>\n",
       "    </tr>\n",
       "  </thead>\n",
       "  <tbody>\n",
       "    <tr>\n",
       "      <th>0</th>\n",
       "      <td>1</td>\n",
       "      <td>gelb</td>\n",
       "    </tr>\n",
       "    <tr>\n",
       "      <th>1</th>\n",
       "      <td>2</td>\n",
       "      <td>blau</td>\n",
       "    </tr>\n",
       "    <tr>\n",
       "      <th>2</th>\n",
       "      <td>3</td>\n",
       "      <td>gelb</td>\n",
       "    </tr>\n",
       "  </tbody>\n",
       "</table>\n",
       "</div>"
      ],
      "text/plain": [
       "   a     b\n",
       "0  1  gelb\n",
       "1  2  blau\n",
       "2  3  gelb"
      ]
     },
     "execution_count": 121,
     "metadata": {},
     "output_type": "execute_result"
    }
   ],
   "source": [
    "df_corrupted"
   ]
  },
  {
   "cell_type": "markdown",
   "id": "866f2601-8e55-4d26-aace-c4cb20223587",
   "metadata": {},
   "source": [
    "## Missing"
   ]
  },
  {
   "cell_type": "code",
   "execution_count": 124,
   "id": "5a0b6f34-6d5d-4e3a-9cd3-295fe2b0f1bd",
   "metadata": {},
   "outputs": [],
   "source": [
    "missing = MissingValue()"
   ]
  },
  {
   "cell_type": "code",
   "execution_count": 125,
   "id": "2b34b853-1e34-4be3-9c24-9968c15a2931",
   "metadata": {},
   "outputs": [],
   "source": [
    "df_missing = pd.DataFrame({\"a\": [1, 2, 3], \"b\": [\"blau\", \"gelb\", \"blau\"]})"
   ]
  },
  {
   "cell_type": "code",
   "execution_count": 126,
   "id": "bc9857c7-94c7-435c-8dc6-234d71669eca",
   "metadata": {},
   "outputs": [],
   "source": [
    "df_corrupted, error_mask = create_errors(df_mislabel, \"b\", ecar, missing)"
   ]
  },
  {
   "cell_type": "code",
   "execution_count": 128,
   "id": "73e37424-6433-42ce-b85e-58c5510c48c9",
   "metadata": {},
   "outputs": [
    {
     "data": {
      "text/html": [
       "<div>\n",
       "<style scoped>\n",
       "    .dataframe tbody tr th:only-of-type {\n",
       "        vertical-align: middle;\n",
       "    }\n",
       "\n",
       "    .dataframe tbody tr th {\n",
       "        vertical-align: top;\n",
       "    }\n",
       "\n",
       "    .dataframe thead th {\n",
       "        text-align: right;\n",
       "    }\n",
       "</style>\n",
       "<table border=\"1\" class=\"dataframe\">\n",
       "  <thead>\n",
       "    <tr style=\"text-align: right;\">\n",
       "      <th></th>\n",
       "      <th>a</th>\n",
       "      <th>b</th>\n",
       "    </tr>\n",
       "  </thead>\n",
       "  <tbody>\n",
       "    <tr>\n",
       "      <th>0</th>\n",
       "      <td>1</td>\n",
       "      <td>NaN</td>\n",
       "    </tr>\n",
       "    <tr>\n",
       "      <th>1</th>\n",
       "      <td>2</td>\n",
       "      <td>NaN</td>\n",
       "    </tr>\n",
       "    <tr>\n",
       "      <th>2</th>\n",
       "      <td>3</td>\n",
       "      <td>NaN</td>\n",
       "    </tr>\n",
       "  </tbody>\n",
       "</table>\n",
       "</div>"
      ],
      "text/plain": [
       "   a    b\n",
       "0  1  NaN\n",
       "1  2  NaN\n",
       "2  3  NaN"
      ]
     },
     "execution_count": 128,
     "metadata": {},
     "output_type": "execute_result"
    }
   ],
   "source": [
    "df_corrupted"
   ]
  }
 ],
 "metadata": {
  "kernelspec": {
   "display_name": "Python 3 (ipykernel)",
   "language": "python",
   "name": "python3"
  },
  "language_info": {
   "codemirror_mode": {
    "name": "ipython",
    "version": 3
   },
   "file_extension": ".py",
   "mimetype": "text/x-python",
   "name": "python",
   "nbconvert_exporter": "python",
   "pygments_lexer": "ipython3",
   "version": "3.10.12"
  }
 },
 "nbformat": 4,
 "nbformat_minor": 5
}
