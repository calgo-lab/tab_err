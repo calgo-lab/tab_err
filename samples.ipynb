{
 "cells": [
  {
   "cell_type": "code",
   "execution_count": 1,
   "id": "a06b4cd8-6bd2-4321-a4ac-2beea45d67db",
   "metadata": {},
   "outputs": [],
   "source": [
    "%load_ext autoreload\n",
    "%autoreload 2"
   ]
  },
  {
   "cell_type": "code",
   "execution_count": 25,
   "id": "ee5a7b2d-55ad-48de-ad8f-94248cdd542b",
   "metadata": {},
   "outputs": [],
   "source": [
    "import pandas as pd\n",
    "\n",
    "from error_generation.api import low_level, mid_level\n",
    "from error_generation.error_mechanism import EAR, ECAR, ENAR\n",
    "from error_generation.error_type import Butterfinger, Mislabel, MissingValue, Mistype, Mojibake, Permutate, WrongUnit\n",
    "from error_generation.utils import ErrorModel, MidLevelConfig"
   ]
  },
  {
   "cell_type": "markdown",
   "id": "3d844adb-dbf8-44e3-89ce-deb51d19ce30",
   "metadata": {},
   "source": [
    "# Error Generation"
   ]
  },
  {
   "cell_type": "markdown",
   "id": "9d52ec07-7a50-49b2-abd0-03e8c7b6c614",
   "metadata": {},
   "source": [
    "The following notebook demonstrates how the `error_generation` software package functions.\n",
    "Fundamentally, one Error Mechanism and one Error Type are combined into an Error Model, which we need to insert errors into tables."
   ]
  },
  {
   "cell_type": "markdown",
   "id": "4f4f8652-b864-4396-b9ec-71d72bd9156d",
   "metadata": {},
   "source": [
    "## Error Mechanism\n",
    "The Error Mechanism determines the distribution of errors. \n",
    "We distinguish between Erroenous Not At Random (ENAR), Erroneous At Random (EAR) and Erroneous Completely At Random (ECAR)."
   ]
  },
  {
   "cell_type": "markdown",
   "id": "8ca482b7-bade-4e2d-9c67-81c40a4ebbb3",
   "metadata": {},
   "source": [
    "### Erroneous Not At Random (ENAR)\n",
    "The distribution of errors that are ENAR depends on the erroneous value itself: For example, imagine three services write data into one table. \n",
    "The table's schema contains a column `service`, into which the services write their name and the date when inserting a value, following the format `${SERVICE}-YYYY-MM-DD`.\n",
    "Now, imagine that one of the services uses the incorrect format `${SERICE}-DD-MM-YYYY`.\n",
    "In this scenario, the distribution of the error depends on the erroneous value.\n",
    "\n",
    "Let's go ahead and simulate it using `error_generation`."
   ]
  },
  {
   "cell_type": "code",
   "execution_count": 26,
   "id": "e4cea319-2cce-4639-8b1e-aa9a8f8d5fdd",
   "metadata": {},
   "outputs": [],
   "source": [
    "df_enar = pd.DataFrame(\n",
    "    {\n",
    "        \"service\": [\n",
    "            \"Aservice-2024-02-01\",\n",
    "            \"Aservice-2024-02-02\",\n",
    "            \"Aservice-2024-02-03\",\n",
    "            \"Bservice-2024-02-01\",\n",
    "            \"Bservice-2024-02-02\",\n",
    "            \"Bservice-2024-02-03\",\n",
    "            \"Cservice-2024-02-01\",\n",
    "            \"Cservice-2024-02-02\",\n",
    "            \"Cservice-2024-02-03\",\n",
    "        ]\n",
    "    }\n",
    ")\n",
    "enar, permutate = ENAR(), Permutate({\"permutation_separator\": \"-\", \"permutation_pattern\": [0, 3, 2, 1]})\n",
    "\n",
    "df_corrupted, error_mask = low_level.create_errors(df_enar, \"service\", 0.34, enar, permutate)"
   ]
  },
  {
   "cell_type": "code",
   "execution_count": 4,
   "id": "146a23a0-226f-4099-bb74-bd98a8796143",
   "metadata": {},
   "outputs": [
    {
     "data": {
      "text/html": [
       "<div>\n",
       "<style scoped>\n",
       "    .dataframe tbody tr th:only-of-type {\n",
       "        vertical-align: middle;\n",
       "    }\n",
       "\n",
       "    .dataframe tbody tr th {\n",
       "        vertical-align: top;\n",
       "    }\n",
       "\n",
       "    .dataframe thead th {\n",
       "        text-align: right;\n",
       "    }\n",
       "</style>\n",
       "<table border=\"1\" class=\"dataframe\">\n",
       "  <thead>\n",
       "    <tr style=\"text-align: right;\">\n",
       "      <th></th>\n",
       "      <th>service</th>\n",
       "    </tr>\n",
       "  </thead>\n",
       "  <tbody>\n",
       "    <tr>\n",
       "      <th>0</th>\n",
       "      <td>Aservice-01-02-2024</td>\n",
       "    </tr>\n",
       "    <tr>\n",
       "      <th>1</th>\n",
       "      <td>Aservice-02-02-2024</td>\n",
       "    </tr>\n",
       "    <tr>\n",
       "      <th>2</th>\n",
       "      <td>Aservice-03-02-2024</td>\n",
       "    </tr>\n",
       "    <tr>\n",
       "      <th>3</th>\n",
       "      <td>Bservice-2024-02-01</td>\n",
       "    </tr>\n",
       "    <tr>\n",
       "      <th>4</th>\n",
       "      <td>Bservice-2024-02-02</td>\n",
       "    </tr>\n",
       "    <tr>\n",
       "      <th>5</th>\n",
       "      <td>Bservice-2024-02-03</td>\n",
       "    </tr>\n",
       "    <tr>\n",
       "      <th>6</th>\n",
       "      <td>Cservice-2024-02-01</td>\n",
       "    </tr>\n",
       "    <tr>\n",
       "      <th>7</th>\n",
       "      <td>Cservice-2024-02-02</td>\n",
       "    </tr>\n",
       "    <tr>\n",
       "      <th>8</th>\n",
       "      <td>Cservice-2024-02-03</td>\n",
       "    </tr>\n",
       "  </tbody>\n",
       "</table>\n",
       "</div>"
      ],
      "text/plain": [
       "               service\n",
       "0  Aservice-01-02-2024\n",
       "1  Aservice-02-02-2024\n",
       "2  Aservice-03-02-2024\n",
       "3  Bservice-2024-02-01\n",
       "4  Bservice-2024-02-02\n",
       "5  Bservice-2024-02-03\n",
       "6  Cservice-2024-02-01\n",
       "7  Cservice-2024-02-02\n",
       "8  Cservice-2024-02-03"
      ]
     },
     "execution_count": 4,
     "metadata": {},
     "output_type": "execute_result"
    }
   ],
   "source": [
    "df_corrupted"
   ]
  },
  {
   "cell_type": "markdown",
   "id": "a8b346ee-0c25-4f5e-a742-93b49f46a596",
   "metadata": {},
   "source": [
    "### Erroneous At Random (EAR)\n",
    "In case the distribution of errors in one column depends on the distribution of another column, we call the the error distribution EAR. For example, imagine several typists manually digitizing a table. One of the typists might make errors while typing. Let's simulate this."
   ]
  },
  {
   "cell_type": "code",
   "execution_count": 27,
   "id": "0ef70d60-cf62-4b66-856d-43db6f4a9378",
   "metadata": {},
   "outputs": [
    {
     "name": "stderr",
     "output_type": "stream",
     "text": [
      "/Users/philipp/code/error-generation/error_generation/error_mechanism/_ear.py:26: UserWarning: The user did not specify 'condition_to_column', the column on which the EAR Mechanism conditions the error distribution. Randomly select column 'typist'.\n",
      "  warnings.warn(\n"
     ]
    }
   ],
   "source": [
    "df_ear = pd.DataFrame(\n",
    "    {\n",
    "        \"typist\": [\"Alice\", \"Alice\", \"Alice\", \"Bob\", \"Bob\", \"Bob\"],\n",
    "        \"book_title\": [\"To Kill a Mockingbird\", \"1984\", \"Pride and Prejudice\", \"The Great Gatsby\", \"Moby-Dick\", \"The Catcher in the Rye\"],\n",
    "    }\n",
    ")\n",
    "ear, butterfinger = EAR(), Butterfinger()\n",
    "\n",
    "df_corrupted, error_mask = low_level.create_errors(df_ear, \"book_title\", 0.5, ear, butterfinger)"
   ]
  },
  {
   "cell_type": "code",
   "execution_count": 28,
   "id": "bd456d16-a8cb-4a3d-b496-35c755fd25ac",
   "metadata": {},
   "outputs": [
    {
     "data": {
      "text/html": [
       "<div>\n",
       "<style scoped>\n",
       "    .dataframe tbody tr th:only-of-type {\n",
       "        vertical-align: middle;\n",
       "    }\n",
       "\n",
       "    .dataframe tbody tr th {\n",
       "        vertical-align: top;\n",
       "    }\n",
       "\n",
       "    .dataframe thead th {\n",
       "        text-align: right;\n",
       "    }\n",
       "</style>\n",
       "<table border=\"1\" class=\"dataframe\">\n",
       "  <thead>\n",
       "    <tr style=\"text-align: right;\">\n",
       "      <th></th>\n",
       "      <th>typist</th>\n",
       "      <th>book_title</th>\n",
       "    </tr>\n",
       "  </thead>\n",
       "  <tbody>\n",
       "    <tr>\n",
       "      <th>0</th>\n",
       "      <td>Alice</td>\n",
       "      <td>To Kill q Mockingbird</td>\n",
       "    </tr>\n",
       "    <tr>\n",
       "      <th>1</th>\n",
       "      <td>Alice</td>\n",
       "      <td>1983</td>\n",
       "    </tr>\n",
       "    <tr>\n",
       "      <th>2</th>\n",
       "      <td>Alice</td>\n",
       "      <td>Pride ans Prejudice</td>\n",
       "    </tr>\n",
       "    <tr>\n",
       "      <th>3</th>\n",
       "      <td>Bob</td>\n",
       "      <td>The Great Gatsby</td>\n",
       "    </tr>\n",
       "    <tr>\n",
       "      <th>4</th>\n",
       "      <td>Bob</td>\n",
       "      <td>Moby-Dick</td>\n",
       "    </tr>\n",
       "    <tr>\n",
       "      <th>5</th>\n",
       "      <td>Bob</td>\n",
       "      <td>The Catcher in the Rye</td>\n",
       "    </tr>\n",
       "  </tbody>\n",
       "</table>\n",
       "</div>"
      ],
      "text/plain": [
       "  typist              book_title\n",
       "0  Alice   To Kill q Mockingbird\n",
       "1  Alice                    1983\n",
       "2  Alice     Pride ans Prejudice\n",
       "3    Bob        The Great Gatsby\n",
       "4    Bob               Moby-Dick\n",
       "5    Bob  The Catcher in the Rye"
      ]
     },
     "execution_count": 28,
     "metadata": {},
     "output_type": "execute_result"
    }
   ],
   "source": [
    "df_corrupted"
   ]
  },
  {
   "cell_type": "markdown",
   "id": "d1e4413e-edc1-4e8d-bb22-e4c0b5790ff6",
   "metadata": {},
   "source": [
    "### Erroneous Completely At Random (ECAR)\n",
    "In case the distribution of errors does not depend on the erroneous column or any other column in the table, we call the distribution ECAR. For example, imagine a table containing application data. Depending on the device and software utilized by the application's users, the user's content contains encoding errors. Because the table does not include information on the device or software, the errors appear completely at random. We can use `error_generation` to simulate this."
   ]
  },
  {
   "cell_type": "code",
   "execution_count": 29,
   "id": "cb40305c-daaa-42fc-bf90-64d4f6d7861d",
   "metadata": {},
   "outputs": [],
   "source": [
    "df_ecar = pd.DataFrame(\n",
    "    {\n",
    "        \"user\": [\"Alice\", \"Alice\", \"Bob\", \"Bob\", \"Clara\", \"David\"],\n",
    "        \"content\": [\"¿Cómo estás?\", \"Привет, как дела?\", \"今日はどうですか\", \"Ça va bien, merci.\", \"¡Nos vemos mañana!\", \"Ich hätte Hunger.\"],\n",
    "    }\n",
    ")\n",
    "ecar, mojibake = ECAR(), Mojibake({\"encoding_sender\": \"utf-8\", \"encoding_receiver\": \"iso-8859-1\"})\n",
    "\n",
    "df_corrupted, error_mask = low_level.create_errors(df_ecar, \"content\", 0.5, ecar, mojibake)"
   ]
  },
  {
   "cell_type": "code",
   "execution_count": 30,
   "id": "41464b03-b38c-4607-92cd-59165d01965d",
   "metadata": {},
   "outputs": [
    {
     "data": {
      "text/html": [
       "<div>\n",
       "<style scoped>\n",
       "    .dataframe tbody tr th:only-of-type {\n",
       "        vertical-align: middle;\n",
       "    }\n",
       "\n",
       "    .dataframe tbody tr th {\n",
       "        vertical-align: top;\n",
       "    }\n",
       "\n",
       "    .dataframe thead th {\n",
       "        text-align: right;\n",
       "    }\n",
       "</style>\n",
       "<table border=\"1\" class=\"dataframe\">\n",
       "  <thead>\n",
       "    <tr style=\"text-align: right;\">\n",
       "      <th></th>\n",
       "      <th>user</th>\n",
       "      <th>content</th>\n",
       "    </tr>\n",
       "  </thead>\n",
       "  <tbody>\n",
       "    <tr>\n",
       "      <th>0</th>\n",
       "      <td>Alice</td>\n",
       "      <td>¿Cómo estás?</td>\n",
       "    </tr>\n",
       "    <tr>\n",
       "      <th>1</th>\n",
       "      <td>Alice</td>\n",
       "      <td>ÐÑÐ¸Ð²ÐµÑ, ÐºÐ°Ðº Ð´ÐµÐ»Ð°?</td>\n",
       "    </tr>\n",
       "    <tr>\n",
       "      <th>2</th>\n",
       "      <td>Bob</td>\n",
       "      <td>ä»æ¥ã¯ã©ãã§ãã</td>\n",
       "    </tr>\n",
       "    <tr>\n",
       "      <th>3</th>\n",
       "      <td>Bob</td>\n",
       "      <td>Ça va bien, merci.</td>\n",
       "    </tr>\n",
       "    <tr>\n",
       "      <th>4</th>\n",
       "      <td>Clara</td>\n",
       "      <td>¡Nos vemos mañana!</td>\n",
       "    </tr>\n",
       "    <tr>\n",
       "      <th>5</th>\n",
       "      <td>David</td>\n",
       "      <td>Ich hÃ¤tte Hunger.</td>\n",
       "    </tr>\n",
       "  </tbody>\n",
       "</table>\n",
       "</div>"
      ],
      "text/plain": [
       "    user                         content\n",
       "0  Alice                    ¿Cómo estás?\n",
       "1  Alice  ÐÑÐ¸Ð²ÐµÑ, ÐºÐ°Ðº Ð´ÐµÐ»Ð°?\n",
       "2    Bob        ä»æ¥ã¯ã©ãã§ãã\n",
       "3    Bob              Ça va bien, merci.\n",
       "4  Clara              ¡Nos vemos mañana!\n",
       "5  David              Ich hÃ¤tte Hunger."
      ]
     },
     "execution_count": 30,
     "metadata": {},
     "output_type": "execute_result"
    }
   ],
   "source": [
    "df_corrupted"
   ]
  },
  {
   "cell_type": "markdown",
   "id": "74855e3b-472f-4d3f-834b-adb36adc0419",
   "metadata": {},
   "source": [
    "## Error Type\n",
    "The Error Type corresponds to the Error Mechanism: Where the Error Mechanism indicates if a cell contains an error, the Error Type defines how the correct value will be transformed into the error.\n",
    "\n",
    "Below, we demonstrate the different Error Types."
   ]
  },
  {
   "cell_type": "markdown",
   "id": "ed7fa65b-e6d8-4c49-8501-a88165a01472",
   "metadata": {},
   "source": [
    "## Mistype"
   ]
  },
  {
   "cell_type": "code",
   "execution_count": 31,
   "id": "98633b5e-957c-4f2b-813f-208fbed6d855",
   "metadata": {},
   "outputs": [],
   "source": [
    "mistype = Mistype({\"mistype_dtype\": \"float64\"})\n",
    "ecar = ECAR()\n",
    "df_mistype = pd.DataFrame({\"a\": [1, 2, 3], \"b\": [\"blau\", \"gelb\", \"blau\"]})\n",
    "df_corrupted, error_mask = low_level.create_errors(df_mistype, \"a\", 0.5, ecar, mistype)"
   ]
  },
  {
   "cell_type": "code",
   "execution_count": 32,
   "id": "a7d421e5-1103-4cde-849b-adb689043081",
   "metadata": {},
   "outputs": [
    {
     "data": {
      "text/html": [
       "<div>\n",
       "<style scoped>\n",
       "    .dataframe tbody tr th:only-of-type {\n",
       "        vertical-align: middle;\n",
       "    }\n",
       "\n",
       "    .dataframe tbody tr th {\n",
       "        vertical-align: top;\n",
       "    }\n",
       "\n",
       "    .dataframe thead th {\n",
       "        text-align: right;\n",
       "    }\n",
       "</style>\n",
       "<table border=\"1\" class=\"dataframe\">\n",
       "  <thead>\n",
       "    <tr style=\"text-align: right;\">\n",
       "      <th></th>\n",
       "      <th>a</th>\n",
       "      <th>b</th>\n",
       "    </tr>\n",
       "  </thead>\n",
       "  <tbody>\n",
       "    <tr>\n",
       "      <th>0</th>\n",
       "      <td>1</td>\n",
       "      <td>blau</td>\n",
       "    </tr>\n",
       "    <tr>\n",
       "      <th>1</th>\n",
       "      <td>2</td>\n",
       "      <td>gelb</td>\n",
       "    </tr>\n",
       "    <tr>\n",
       "      <th>2</th>\n",
       "      <td>3.0</td>\n",
       "      <td>blau</td>\n",
       "    </tr>\n",
       "  </tbody>\n",
       "</table>\n",
       "</div>"
      ],
      "text/plain": [
       "     a     b\n",
       "0    1  blau\n",
       "1    2  gelb\n",
       "2  3.0  blau"
      ]
     },
     "execution_count": 32,
     "metadata": {},
     "output_type": "execute_result"
    }
   ],
   "source": [
    "df_corrupted"
   ]
  },
  {
   "cell_type": "markdown",
   "id": "0ff517d2-761d-435c-ac21-e2d6cf3bc411",
   "metadata": {},
   "source": [
    "## Permutation"
   ]
  },
  {
   "cell_type": "code",
   "execution_count": 33,
   "id": "dff2611e-b16b-4104-ba1d-4696a18c8330",
   "metadata": {},
   "outputs": [],
   "source": [
    "data = {\"A\": [\"apple\", \"banana\", \"cherry\", \"pineapple\"], \"B\": [\"red apple\", \"yellow banana\", \"dark cherry\", \"blue pineapple\"], \"C\": [10, 20, 30, 40]}\n",
    "df_permutate = pd.DataFrame(data)\n",
    "permutate = Permutate({\"permutation_separator\": \" \", \"permutation_automation_pattern\": \"fixed\"})\n",
    "df_corrupted, error_mask = low_level.create_errors(df_permutate, \"B\", 1.0, ecar, permutate)"
   ]
  },
  {
   "cell_type": "code",
   "execution_count": 34,
   "id": "1221cb45-2f54-4167-8ebb-26b4f6723555",
   "metadata": {},
   "outputs": [
    {
     "data": {
      "text/html": [
       "<div>\n",
       "<style scoped>\n",
       "    .dataframe tbody tr th:only-of-type {\n",
       "        vertical-align: middle;\n",
       "    }\n",
       "\n",
       "    .dataframe tbody tr th {\n",
       "        vertical-align: top;\n",
       "    }\n",
       "\n",
       "    .dataframe thead th {\n",
       "        text-align: right;\n",
       "    }\n",
       "</style>\n",
       "<table border=\"1\" class=\"dataframe\">\n",
       "  <thead>\n",
       "    <tr style=\"text-align: right;\">\n",
       "      <th></th>\n",
       "      <th>A</th>\n",
       "      <th>B</th>\n",
       "      <th>C</th>\n",
       "    </tr>\n",
       "  </thead>\n",
       "  <tbody>\n",
       "    <tr>\n",
       "      <th>0</th>\n",
       "      <td>apple</td>\n",
       "      <td>apple red</td>\n",
       "      <td>10</td>\n",
       "    </tr>\n",
       "    <tr>\n",
       "      <th>1</th>\n",
       "      <td>banana</td>\n",
       "      <td>banana yellow</td>\n",
       "      <td>20</td>\n",
       "    </tr>\n",
       "    <tr>\n",
       "      <th>2</th>\n",
       "      <td>cherry</td>\n",
       "      <td>cherry dark</td>\n",
       "      <td>30</td>\n",
       "    </tr>\n",
       "    <tr>\n",
       "      <th>3</th>\n",
       "      <td>pineapple</td>\n",
       "      <td>pineapple blue</td>\n",
       "      <td>40</td>\n",
       "    </tr>\n",
       "  </tbody>\n",
       "</table>\n",
       "</div>"
      ],
      "text/plain": [
       "           A               B   C\n",
       "0      apple       apple red  10\n",
       "1     banana   banana yellow  20\n",
       "2     cherry     cherry dark  30\n",
       "3  pineapple  pineapple blue  40"
      ]
     },
     "execution_count": 34,
     "metadata": {},
     "output_type": "execute_result"
    }
   ],
   "source": [
    "df_corrupted"
   ]
  },
  {
   "cell_type": "markdown",
   "id": "bdd6cfc7-2c00-4956-b10f-cdd154f00955",
   "metadata": {},
   "source": [
    "## Mojibake"
   ]
  },
  {
   "cell_type": "code",
   "execution_count": 35,
   "id": "92c3a871-3078-4552-b9e6-d583e36e2ec2",
   "metadata": {},
   "outputs": [],
   "source": [
    "mojibake = Mojibake()\n",
    "df_mojibake = pd.DataFrame({\"a\": [0, 1, 2], \"b\": [\"Ente\", \"Haus\", \"Grünfelder Straße 17, 13357 Öppeln\"]})\n",
    "df_corrupted, error_mask = low_level.create_errors(df_mojibake, \"b\", 1.0, ecar, mojibake)"
   ]
  },
  {
   "cell_type": "code",
   "execution_count": 36,
   "id": "288759e4-f634-49d6-a285-deb0e0abf999",
   "metadata": {},
   "outputs": [
    {
     "data": {
      "text/html": [
       "<div>\n",
       "<style scoped>\n",
       "    .dataframe tbody tr th:only-of-type {\n",
       "        vertical-align: middle;\n",
       "    }\n",
       "\n",
       "    .dataframe tbody tr th {\n",
       "        vertical-align: top;\n",
       "    }\n",
       "\n",
       "    .dataframe thead th {\n",
       "        text-align: right;\n",
       "    }\n",
       "</style>\n",
       "<table border=\"1\" class=\"dataframe\">\n",
       "  <thead>\n",
       "    <tr style=\"text-align: right;\">\n",
       "      <th></th>\n",
       "      <th>a</th>\n",
       "      <th>b</th>\n",
       "    </tr>\n",
       "  </thead>\n",
       "  <tbody>\n",
       "    <tr>\n",
       "      <th>0</th>\n",
       "      <td>0</td>\n",
       "      <td>Ente</td>\n",
       "    </tr>\n",
       "    <tr>\n",
       "      <th>1</th>\n",
       "      <td>1</td>\n",
       "      <td>Haus</td>\n",
       "    </tr>\n",
       "    <tr>\n",
       "      <th>2</th>\n",
       "      <td>2</td>\n",
       "      <td>Grnfelder Strae 17, 13357 ppeln</td>\n",
       "    </tr>\n",
       "  </tbody>\n",
       "</table>\n",
       "</div>"
      ],
      "text/plain": [
       "   a                                b\n",
       "0  0                             Ente\n",
       "1  1                             Haus\n",
       "2  2  Grnfelder Strae 17, 13357 ppeln"
      ]
     },
     "execution_count": 36,
     "metadata": {},
     "output_type": "execute_result"
    }
   ],
   "source": [
    "df_corrupted"
   ]
  },
  {
   "cell_type": "markdown",
   "id": "2aee8cbe-ea80-4e32-ac5d-d002d1198c10",
   "metadata": {},
   "source": [
    "## Butterfinger"
   ]
  },
  {
   "cell_type": "code",
   "execution_count": 37,
   "id": "8f5fa21b-0af8-43ae-9ac4-daa7c09c592a",
   "metadata": {},
   "outputs": [],
   "source": [
    "butterfinger = Butterfinger()\n",
    "df_butterfinger = pd.DataFrame({\"a\": [0, 1, 2], \"b\": [\"Entspannung\", \"Genugtuung\", \"Ausgeglichenheit\"]})\n",
    "df_corrupted, error_mask = low_level.create_errors(df_butterfinger, \"b\", 1.0, ecar, butterfinger)"
   ]
  },
  {
   "cell_type": "code",
   "execution_count": 38,
   "id": "5fb3f20d-8e30-47fa-aa8d-aeb541264b81",
   "metadata": {},
   "outputs": [
    {
     "data": {
      "text/html": [
       "<div>\n",
       "<style scoped>\n",
       "    .dataframe tbody tr th:only-of-type {\n",
       "        vertical-align: middle;\n",
       "    }\n",
       "\n",
       "    .dataframe tbody tr th {\n",
       "        vertical-align: top;\n",
       "    }\n",
       "\n",
       "    .dataframe thead th {\n",
       "        text-align: right;\n",
       "    }\n",
       "</style>\n",
       "<table border=\"1\" class=\"dataframe\">\n",
       "  <thead>\n",
       "    <tr style=\"text-align: right;\">\n",
       "      <th></th>\n",
       "      <th>a</th>\n",
       "      <th>b</th>\n",
       "    </tr>\n",
       "  </thead>\n",
       "  <tbody>\n",
       "    <tr>\n",
       "      <th>0</th>\n",
       "      <td>0</td>\n",
       "      <td>Entspannujg</td>\n",
       "    </tr>\n",
       "    <tr>\n",
       "      <th>1</th>\n",
       "      <td>1</td>\n",
       "      <td>Genigtuung</td>\n",
       "    </tr>\n",
       "    <tr>\n",
       "      <th>2</th>\n",
       "      <td>2</td>\n",
       "      <td>Ausgeglichenbeit</td>\n",
       "    </tr>\n",
       "  </tbody>\n",
       "</table>\n",
       "</div>"
      ],
      "text/plain": [
       "   a                 b\n",
       "0  0       Entspannujg\n",
       "1  1        Genigtuung\n",
       "2  2  Ausgeglichenbeit"
      ]
     },
     "execution_count": 38,
     "metadata": {},
     "output_type": "execute_result"
    }
   ],
   "source": [
    "df_corrupted"
   ]
  },
  {
   "cell_type": "markdown",
   "id": "971fc620-ef9d-452d-b576-2dbfcb99cd4b",
   "metadata": {},
   "source": [
    "## Wrong Unit"
   ]
  },
  {
   "cell_type": "code",
   "execution_count": 39,
   "id": "53d9ebc6-7e12-4736-9734-babf114fa479",
   "metadata": {},
   "outputs": [],
   "source": [
    "wrong_unit = WrongUnit({\"wrong_unit_scaling\": lambda x: x / 1000})\n",
    "df_wrong_unit = pd.DataFrame({\"a\": [0, 1, 2], \"b\": [40, 50, 60]})\n",
    "df_corrupted, error_mask = low_level.create_errors(df_wrong_unit, 1, 1.0, ecar, wrong_unit)"
   ]
  },
  {
   "cell_type": "code",
   "execution_count": 40,
   "id": "656082b2-8cac-495a-aa59-eb662888cfc5",
   "metadata": {},
   "outputs": [
    {
     "data": {
      "text/html": [
       "<div>\n",
       "<style scoped>\n",
       "    .dataframe tbody tr th:only-of-type {\n",
       "        vertical-align: middle;\n",
       "    }\n",
       "\n",
       "    .dataframe tbody tr th {\n",
       "        vertical-align: top;\n",
       "    }\n",
       "\n",
       "    .dataframe thead th {\n",
       "        text-align: right;\n",
       "    }\n",
       "</style>\n",
       "<table border=\"1\" class=\"dataframe\">\n",
       "  <thead>\n",
       "    <tr style=\"text-align: right;\">\n",
       "      <th></th>\n",
       "      <th>a</th>\n",
       "      <th>b</th>\n",
       "    </tr>\n",
       "  </thead>\n",
       "  <tbody>\n",
       "    <tr>\n",
       "      <th>0</th>\n",
       "      <td>0</td>\n",
       "      <td>0.04</td>\n",
       "    </tr>\n",
       "    <tr>\n",
       "      <th>1</th>\n",
       "      <td>1</td>\n",
       "      <td>0.05</td>\n",
       "    </tr>\n",
       "    <tr>\n",
       "      <th>2</th>\n",
       "      <td>2</td>\n",
       "      <td>0.06</td>\n",
       "    </tr>\n",
       "  </tbody>\n",
       "</table>\n",
       "</div>"
      ],
      "text/plain": [
       "   a     b\n",
       "0  0  0.04\n",
       "1  1  0.05\n",
       "2  2  0.06"
      ]
     },
     "execution_count": 40,
     "metadata": {},
     "output_type": "execute_result"
    }
   ],
   "source": [
    "df_corrupted"
   ]
  },
  {
   "cell_type": "markdown",
   "id": "d8d9e4ea-6575-4802-b565-b0345ff3a86f",
   "metadata": {},
   "source": [
    "## Mislabel"
   ]
  },
  {
   "cell_type": "code",
   "execution_count": 41,
   "id": "6332c825-5cf3-421c-bb2e-f03cb55c34e6",
   "metadata": {},
   "outputs": [],
   "source": [
    "mislabel = Mislabel()\n",
    "df_mislabel = pd.DataFrame({\"a\": [1, 2, 3], \"b\": [\"blau\", \"gelb\", \"blau\"]})\n",
    "df_mislabel[\"b\"] = df_mislabel[\"b\"].astype(\"category\")\n",
    "df_corrupted, error_mask = low_level.create_errors(df_mislabel, \"b\", 1.0, ecar, mislabel)"
   ]
  },
  {
   "cell_type": "code",
   "execution_count": 42,
   "id": "8f064b77-b988-4c60-8363-42f93c90439c",
   "metadata": {},
   "outputs": [
    {
     "data": {
      "text/html": [
       "<div>\n",
       "<style scoped>\n",
       "    .dataframe tbody tr th:only-of-type {\n",
       "        vertical-align: middle;\n",
       "    }\n",
       "\n",
       "    .dataframe tbody tr th {\n",
       "        vertical-align: top;\n",
       "    }\n",
       "\n",
       "    .dataframe thead th {\n",
       "        text-align: right;\n",
       "    }\n",
       "</style>\n",
       "<table border=\"1\" class=\"dataframe\">\n",
       "  <thead>\n",
       "    <tr style=\"text-align: right;\">\n",
       "      <th></th>\n",
       "      <th>a</th>\n",
       "      <th>b</th>\n",
       "    </tr>\n",
       "  </thead>\n",
       "  <tbody>\n",
       "    <tr>\n",
       "      <th>0</th>\n",
       "      <td>1</td>\n",
       "      <td>gelb</td>\n",
       "    </tr>\n",
       "    <tr>\n",
       "      <th>1</th>\n",
       "      <td>2</td>\n",
       "      <td>blau</td>\n",
       "    </tr>\n",
       "    <tr>\n",
       "      <th>2</th>\n",
       "      <td>3</td>\n",
       "      <td>gelb</td>\n",
       "    </tr>\n",
       "  </tbody>\n",
       "</table>\n",
       "</div>"
      ],
      "text/plain": [
       "   a     b\n",
       "0  1  gelb\n",
       "1  2  blau\n",
       "2  3  gelb"
      ]
     },
     "execution_count": 42,
     "metadata": {},
     "output_type": "execute_result"
    }
   ],
   "source": [
    "df_corrupted"
   ]
  },
  {
   "cell_type": "markdown",
   "id": "866f2601-8e55-4d26-aace-c4cb20223587",
   "metadata": {},
   "source": [
    "## Missing"
   ]
  },
  {
   "cell_type": "code",
   "execution_count": 43,
   "id": "5a0b6f34-6d5d-4e3a-9cd3-295fe2b0f1bd",
   "metadata": {},
   "outputs": [],
   "source": [
    "missing = MissingValue()\n",
    "df_missing = pd.DataFrame({\"a\": [1, 2, 3], \"b\": [\"blau\", \"gelb\", \"blau\"]})\n",
    "df_corrupted, error_mask = low_level.create_errors(df_missing, \"b\", 1.0, ecar, missing)"
   ]
  },
  {
   "cell_type": "code",
   "execution_count": 44,
   "id": "73e37424-6433-42ce-b85e-58c5510c48c9",
   "metadata": {},
   "outputs": [
    {
     "data": {
      "text/html": [
       "<div>\n",
       "<style scoped>\n",
       "    .dataframe tbody tr th:only-of-type {\n",
       "        vertical-align: middle;\n",
       "    }\n",
       "\n",
       "    .dataframe tbody tr th {\n",
       "        vertical-align: top;\n",
       "    }\n",
       "\n",
       "    .dataframe thead th {\n",
       "        text-align: right;\n",
       "    }\n",
       "</style>\n",
       "<table border=\"1\" class=\"dataframe\">\n",
       "  <thead>\n",
       "    <tr style=\"text-align: right;\">\n",
       "      <th></th>\n",
       "      <th>a</th>\n",
       "      <th>b</th>\n",
       "    </tr>\n",
       "  </thead>\n",
       "  <tbody>\n",
       "    <tr>\n",
       "      <th>0</th>\n",
       "      <td>1</td>\n",
       "      <td>None</td>\n",
       "    </tr>\n",
       "    <tr>\n",
       "      <th>1</th>\n",
       "      <td>2</td>\n",
       "      <td>None</td>\n",
       "    </tr>\n",
       "    <tr>\n",
       "      <th>2</th>\n",
       "      <td>3</td>\n",
       "      <td>None</td>\n",
       "    </tr>\n",
       "  </tbody>\n",
       "</table>\n",
       "</div>"
      ],
      "text/plain": [
       "   a     b\n",
       "0  1  None\n",
       "1  2  None\n",
       "2  3  None"
      ]
     },
     "execution_count": 44,
     "metadata": {},
     "output_type": "execute_result"
    }
   ],
   "source": [
    "df_corrupted"
   ]
  },
  {
   "cell_type": "markdown",
   "id": "c4855fd4-dc17-48b0-9deb-9c6a51245e3c",
   "metadata": {},
   "source": [
    "## Error Generation APIs\n",
    "There are three APIs available to generate errors:\n",
    "- Low Level API `api.low_level`\n",
    "- Mid Level API `api.mid_level`\n",
    "- High Level API`api.high_level` (not implemented yet)"
   ]
  },
  {
   "cell_type": "markdown",
   "id": "4d8918e0-a2f4-48e3-9fbb-f70525d4d82e",
   "metadata": {},
   "source": [
    "### Low Level API\n",
    "The Low Level API is used to apply single error-models to a table, as demonstrated in the examples above."
   ]
  },
  {
   "cell_type": "markdown",
   "id": "378c6922-9784-4697-80d0-7ed2e4e5c168",
   "metadata": {},
   "source": [
    "### Mid Level API\n",
    "The Mid Level API allows the user to apply several error-models to one table.\n",
    "It prevents conflicting error insertions from happening and ensures that as many errors as generated as the user required."
   ]
  },
  {
   "cell_type": "code",
   "execution_count": 45,
   "id": "ff1393bf-2ac6-41bc-a341-a384b74aad5a",
   "metadata": {},
   "outputs": [],
   "source": [
    "df_mid_level = pd.DataFrame(\n",
    "    {\n",
    "        \"typist\": [\"Alice\", \"Alice\", \"Alice\", \"Bob\", \"Bob\", \"Bob\"],\n",
    "        \"book_title\": [\"To Kill a Mockingbird\", \"1984\", \"Pride and Prejudice\", \"The Great Gatsby\", \"Moby-Dick\", \"The Catcher in the Rye\"],\n",
    "    }\n",
    ")\n",
    "\n",
    "config = MidLevelConfig(\n",
    "    {\n",
    "        \"typist\": [ErrorModel(ENAR(), MissingValue(), 0.5)],\n",
    "        \"book_title\": [ErrorModel(EAR(condition_to_column=\"typist\"), Butterfinger(), 0.5)],\n",
    "    }\n",
    ")\n",
    "\n",
    "df_corrupt, error_mask = mid_level.create_errors(df_mid_level, config)"
   ]
  },
  {
   "cell_type": "code",
   "execution_count": 46,
   "id": "63f1e8e0-68ae-4151-8c2b-2c7e69bee3ab",
   "metadata": {},
   "outputs": [
    {
     "data": {
      "text/html": [
       "<div>\n",
       "<style scoped>\n",
       "    .dataframe tbody tr th:only-of-type {\n",
       "        vertical-align: middle;\n",
       "    }\n",
       "\n",
       "    .dataframe tbody tr th {\n",
       "        vertical-align: top;\n",
       "    }\n",
       "\n",
       "    .dataframe thead th {\n",
       "        text-align: right;\n",
       "    }\n",
       "</style>\n",
       "<table border=\"1\" class=\"dataframe\">\n",
       "  <thead>\n",
       "    <tr style=\"text-align: right;\">\n",
       "      <th></th>\n",
       "      <th>typist</th>\n",
       "      <th>book_title</th>\n",
       "    </tr>\n",
       "  </thead>\n",
       "  <tbody>\n",
       "    <tr>\n",
       "      <th>0</th>\n",
       "      <td>Alice</td>\n",
       "      <td>To Kill a Mockingbird</td>\n",
       "    </tr>\n",
       "    <tr>\n",
       "      <th>1</th>\n",
       "      <td>Alice</td>\n",
       "      <td>2984</td>\n",
       "    </tr>\n",
       "    <tr>\n",
       "      <th>2</th>\n",
       "      <td>None</td>\n",
       "      <td>Pride anr Prejudice</td>\n",
       "    </tr>\n",
       "    <tr>\n",
       "      <th>3</th>\n",
       "      <td>None</td>\n",
       "      <td>The Great Gatwby</td>\n",
       "    </tr>\n",
       "    <tr>\n",
       "      <th>4</th>\n",
       "      <td>None</td>\n",
       "      <td>Moby-Dick</td>\n",
       "    </tr>\n",
       "    <tr>\n",
       "      <th>5</th>\n",
       "      <td>Bob</td>\n",
       "      <td>The Catcher in the Rye</td>\n",
       "    </tr>\n",
       "  </tbody>\n",
       "</table>\n",
       "</div>"
      ],
      "text/plain": [
       "  typist              book_title\n",
       "0  Alice   To Kill a Mockingbird\n",
       "1  Alice                    2984\n",
       "2   None     Pride anr Prejudice\n",
       "3   None        The Great Gatwby\n",
       "4   None               Moby-Dick\n",
       "5    Bob  The Catcher in the Rye"
      ]
     },
     "execution_count": 46,
     "metadata": {},
     "output_type": "execute_result"
    }
   ],
   "source": [
    "df_corrupt"
   ]
  },
  {
   "cell_type": "code",
   "execution_count": 47,
   "id": "b7553e47-dac9-4a01-aa27-f64f3d5464a2",
   "metadata": {},
   "outputs": [
    {
     "data": {
      "text/html": [
       "<div>\n",
       "<style scoped>\n",
       "    .dataframe tbody tr th:only-of-type {\n",
       "        vertical-align: middle;\n",
       "    }\n",
       "\n",
       "    .dataframe tbody tr th {\n",
       "        vertical-align: top;\n",
       "    }\n",
       "\n",
       "    .dataframe thead th {\n",
       "        text-align: right;\n",
       "    }\n",
       "</style>\n",
       "<table border=\"1\" class=\"dataframe\">\n",
       "  <thead>\n",
       "    <tr style=\"text-align: right;\">\n",
       "      <th></th>\n",
       "      <th>typist</th>\n",
       "      <th>book_title</th>\n",
       "    </tr>\n",
       "  </thead>\n",
       "  <tbody>\n",
       "    <tr>\n",
       "      <th>0</th>\n",
       "      <td>False</td>\n",
       "      <td>False</td>\n",
       "    </tr>\n",
       "    <tr>\n",
       "      <th>1</th>\n",
       "      <td>False</td>\n",
       "      <td>True</td>\n",
       "    </tr>\n",
       "    <tr>\n",
       "      <th>2</th>\n",
       "      <td>True</td>\n",
       "      <td>True</td>\n",
       "    </tr>\n",
       "    <tr>\n",
       "      <th>3</th>\n",
       "      <td>True</td>\n",
       "      <td>True</td>\n",
       "    </tr>\n",
       "    <tr>\n",
       "      <th>4</th>\n",
       "      <td>True</td>\n",
       "      <td>False</td>\n",
       "    </tr>\n",
       "    <tr>\n",
       "      <th>5</th>\n",
       "      <td>False</td>\n",
       "      <td>False</td>\n",
       "    </tr>\n",
       "  </tbody>\n",
       "</table>\n",
       "</div>"
      ],
      "text/plain": [
       "   typist  book_title\n",
       "0   False       False\n",
       "1   False        True\n",
       "2    True        True\n",
       "3    True        True\n",
       "4    True       False\n",
       "5   False       False"
      ]
     },
     "execution_count": 47,
     "metadata": {},
     "output_type": "execute_result"
    }
   ],
   "source": [
    "error_mask"
   ]
  }
 ],
 "metadata": {
  "kernelspec": {
   "display_name": "Python 3 (ipykernel)",
   "language": "python",
   "name": "python3"
  },
  "language_info": {
   "codemirror_mode": {
    "name": "ipython",
    "version": 3
   },
   "file_extension": ".py",
   "mimetype": "text/x-python",
   "name": "python",
   "nbconvert_exporter": "python",
   "pygments_lexer": "ipython3",
   "version": "3.10.12"
  }
 },
 "nbformat": 4,
 "nbformat_minor": 5
}
