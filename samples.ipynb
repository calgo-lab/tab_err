{
 "cells": [
  {
   "cell_type": "code",
   "execution_count": 1,
   "id": "a06b4cd8-6bd2-4321-a4ac-2beea45d67db",
   "metadata": {},
   "outputs": [],
   "source": [
    "%load_ext autoreload\n",
    "%autoreload 2"
   ]
  },
  {
   "cell_type": "markdown",
   "id": "74855e3b-472f-4d3f-834b-adb36adc0419",
   "metadata": {},
   "source": [
    "# Use `low_level` API to create `Mojibake` in one column"
   ]
  },
  {
   "cell_type": "code",
   "execution_count": 3,
   "id": "3b62f455-52b2-474b-9ba0-ba4d24e56ae1",
   "metadata": {},
   "outputs": [],
   "source": [
    "import pandas as pd\n",
    "\n",
    "from error_generation.api.low_level import create_errors\n",
    "from error_generation.error_mechanism import ECAR\n",
    "from error_generation.error_type import Butterfinger, Mojibake"
   ]
  },
  {
   "cell_type": "code",
   "execution_count": 9,
   "id": "f09057a2-ae58-4012-bd4a-82b678aabfa0",
   "metadata": {},
   "outputs": [],
   "source": [
    "ecar = ECAR(error_rate=1.0)"
   ]
  },
  {
   "cell_type": "code",
   "execution_count": 10,
   "id": "92c3a871-3078-4552-b9e6-d583e36e2ec2",
   "metadata": {},
   "outputs": [],
   "source": [
    "mojibake = Mojibake()"
   ]
  },
  {
   "cell_type": "code",
   "execution_count": 11,
   "id": "3e705b44-36c4-459b-ba78-55ab83fbbb68",
   "metadata": {},
   "outputs": [],
   "source": [
    "df_mojibake = pd.DataFrame({\"a\": [0, 1, 2], \"b\": [\"Ente\", \"Haus\", \"Grünfelder Straße 17, 13357 Öppeln\"]})"
   ]
  },
  {
   "cell_type": "code",
   "execution_count": 12,
   "id": "11c576a2-1cd1-4fad-829e-bc036230051c",
   "metadata": {},
   "outputs": [],
   "source": [
    "df_corrupted, error_mask = create_errors(df_mojibake, \"b\", ecar, mojibake)"
   ]
  },
  {
   "cell_type": "code",
   "execution_count": 13,
   "id": "288759e4-f634-49d6-a285-deb0e0abf999",
   "metadata": {},
   "outputs": [
    {
     "data": {
      "text/html": [
       "<div>\n",
       "<style scoped>\n",
       "    .dataframe tbody tr th:only-of-type {\n",
       "        vertical-align: middle;\n",
       "    }\n",
       "\n",
       "    .dataframe tbody tr th {\n",
       "        vertical-align: top;\n",
       "    }\n",
       "\n",
       "    .dataframe thead th {\n",
       "        text-align: right;\n",
       "    }\n",
       "</style>\n",
       "<table border=\"1\" class=\"dataframe\">\n",
       "  <thead>\n",
       "    <tr style=\"text-align: right;\">\n",
       "      <th></th>\n",
       "      <th>a</th>\n",
       "      <th>b</th>\n",
       "    </tr>\n",
       "  </thead>\n",
       "  <tbody>\n",
       "    <tr>\n",
       "      <th>0</th>\n",
       "      <td>0</td>\n",
       "      <td>Ente</td>\n",
       "    </tr>\n",
       "    <tr>\n",
       "      <th>1</th>\n",
       "      <td>1</td>\n",
       "      <td>Haus</td>\n",
       "    </tr>\n",
       "    <tr>\n",
       "      <th>2</th>\n",
       "      <td>2</td>\n",
       "      <td>GrŹ«änfelder StraŹ©Îe 17, 13357 ŹŞÓppeln</td>\n",
       "    </tr>\n",
       "  </tbody>\n",
       "</table>\n",
       "</div>"
      ],
      "text/plain": [
       "   a                                         b\n",
       "0  0                                      Ente\n",
       "1  1                                      Haus\n",
       "2  2  GrŹ«änfelder StraŹ©Îe 17, 13357 ŹŞÓppeln"
      ]
     },
     "execution_count": 13,
     "metadata": {},
     "output_type": "execute_result"
    }
   ],
   "source": [
    "df_corrupted"
   ]
  },
  {
   "cell_type": "markdown",
   "id": "2aee8cbe-ea80-4e32-ac5d-d002d1198c10",
   "metadata": {},
   "source": [
    "# Butterfinger"
   ]
  },
  {
   "cell_type": "code",
   "execution_count": 14,
   "id": "8f5fa21b-0af8-43ae-9ac4-daa7c09c592a",
   "metadata": {},
   "outputs": [],
   "source": [
    "butterfinger = Butterfinger()"
   ]
  },
  {
   "cell_type": "code",
   "execution_count": 15,
   "id": "1b5a2be4-671e-465b-bad2-469f9108bea6",
   "metadata": {},
   "outputs": [],
   "source": [
    "df_butterfinger = pd.DataFrame({\"a\": [0, 1, 2], \"b\": [\"Entspannung\", \"Genugtuung\", \"Ausgeglichenheit\"]})"
   ]
  },
  {
   "cell_type": "code",
   "execution_count": 16,
   "id": "438a011a-6ff7-4428-91e9-df3cf5790323",
   "metadata": {},
   "outputs": [],
   "source": [
    "df_corrupted, error_mask = create_errors(df_butterfinger, \"b\", ecar, butterfinger)"
   ]
  },
  {
   "cell_type": "code",
   "execution_count": 17,
   "id": "5fb3f20d-8e30-47fa-aa8d-aeb541264b81",
   "metadata": {},
   "outputs": [
    {
     "data": {
      "text/html": [
       "<div>\n",
       "<style scoped>\n",
       "    .dataframe tbody tr th:only-of-type {\n",
       "        vertical-align: middle;\n",
       "    }\n",
       "\n",
       "    .dataframe tbody tr th {\n",
       "        vertical-align: top;\n",
       "    }\n",
       "\n",
       "    .dataframe thead th {\n",
       "        text-align: right;\n",
       "    }\n",
       "</style>\n",
       "<table border=\"1\" class=\"dataframe\">\n",
       "  <thead>\n",
       "    <tr style=\"text-align: right;\">\n",
       "      <th></th>\n",
       "      <th>a</th>\n",
       "      <th>b</th>\n",
       "    </tr>\n",
       "  </thead>\n",
       "  <tbody>\n",
       "    <tr>\n",
       "      <th>0</th>\n",
       "      <td>0</td>\n",
       "      <td>Entspajnung</td>\n",
       "    </tr>\n",
       "    <tr>\n",
       "      <th>1</th>\n",
       "      <td>1</td>\n",
       "      <td>Genugyuung</td>\n",
       "    </tr>\n",
       "    <tr>\n",
       "      <th>2</th>\n",
       "      <td>2</td>\n",
       "      <td>Audgeglichenheit</td>\n",
       "    </tr>\n",
       "  </tbody>\n",
       "</table>\n",
       "</div>"
      ],
      "text/plain": [
       "   a                 b\n",
       "0  0       Entspajnung\n",
       "1  1        Genugyuung\n",
       "2  2  Audgeglichenheit"
      ]
     },
     "execution_count": 17,
     "metadata": {},
     "output_type": "execute_result"
    }
   ],
   "source": [
    "df_corrupted"
   ]
  }
 ],
 "metadata": {
  "kernelspec": {
   "display_name": "Python 3 (ipykernel)",
   "language": "python",
   "name": "python3"
  },
  "language_info": {
   "codemirror_mode": {
    "name": "ipython",
    "version": 3
   },
   "file_extension": ".py",
   "mimetype": "text/x-python",
   "name": "python",
   "nbconvert_exporter": "python",
   "pygments_lexer": "ipython3",
   "version": "3.10.12"
  }
 },
 "nbformat": 4,
 "nbformat_minor": 5
}
