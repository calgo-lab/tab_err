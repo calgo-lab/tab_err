{
 "cells": [
  {
   "cell_type": "markdown",
   "metadata": {},
   "source": [
    "# Test of the High-Level API\n",
    "\n",
    "For development purposes"
   ]
  },
  {
   "cell_type": "code",
   "execution_count": 1,
   "metadata": {},
   "outputs": [],
   "source": [
    "from __future__ import annotations\n",
    "\n",
    "import pandas as pd\n",
    "\n",
    "from tab_err.api import high_level"
   ]
  },
  {
   "cell_type": "code",
   "execution_count": 2,
   "metadata": {},
   "outputs": [],
   "source": [
    "def show_result(original_df: pd.DataFrame, perturbed_df: pd.DataFrame, error_mask: pd.DataFrame | None = None) -> pd.DataFrame:\n",
    "    \"\"\"Simple helper function to show DataFrames after perturbing them.\"\"\"\n",
    "    return (\n",
    "        pd.concat([original_df, perturbed_df], keys=[\"original\", \"perturbed\"], axis=1)\n",
    "        if error_mask is None\n",
    "        else pd.concat([original_df, perturbed_df, error_mask], keys=[\"original\", \"perturbed\", \"error_mask\"], axis=1)\n",
    "    )"
   ]
  },
  {
   "cell_type": "code",
   "execution_count": 3,
   "metadata": {},
   "outputs": [],
   "source": [
    "df_typist_book_title = pd.DataFrame(\n",
    "    {\n",
    "        \"typist\": [\"Alice\", \"Alice\", \"Alice\", \"Bob\", \"Bob\", \"Bob\"],\n",
    "        \"book_title\": [\"To Kill a Mockingbird\", \"1984\", \"Pride and Prejudice\", \"The Great Gatsby\", \"Moby-Dick\", \"The Catcher in the Rye\"],\n",
    "        \"rating\": [1.0, 3.0, 3.0, 4.0, 2.0, 1.0],\n",
    "    }\n",
    ")"
   ]
  },
  {
   "cell_type": "markdown",
   "metadata": {},
   "source": [
    "### TEST"
   ]
  },
  {
   "cell_type": "code",
   "execution_count": 4,
   "metadata": {},
   "outputs": [
    {
     "name": "stdout",
     "output_type": "stream",
     "text": [
      "Column-type dict:  {'typist': [<tab_err.error_type._add_delta.AddDelta object at 0x7f6e7425f640>, <tab_err.error_type._extraneous.Extraneous object at 0x7f6e7425f520>, <tab_err.error_type._missing.MissingValue object at 0x7f6e7425f5b0>, <tab_err.error_type._mistype.Mistype object at 0x7f6e7425d8a0>], 'book_title': [<tab_err.error_type._add_delta.AddDelta object at 0x7f6e7425f640>, <tab_err.error_type._extraneous.Extraneous object at 0x7f6e7425f520>, <tab_err.error_type._missing.MissingValue object at 0x7f6e7425f5b0>, <tab_err.error_type._mistype.Mistype object at 0x7f6e7425d8a0>], 'rating': [<tab_err.error_type._add_delta.AddDelta object at 0x7f6e7425f640>, <tab_err.error_type._extraneous.Extraneous object at 0x7f6e7425f520>, <tab_err.error_type._missing.MissingValue object at 0x7f6e7425f5b0>, <tab_err.error_type._mistype.Mistype object at 0x7f6e7425d8a0>, <tab_err.error_type._outlier.Outlier object at 0x7f6e7425ee90>, <tab_err.error_type._wrong_unit.WrongUnit object at 0x7f6e7425fbe0>]}\n",
      "Column-mech dict:  {'typist': None, 'book_title': None, 'rating': None}\n"
     ]
    },
    {
     "ename": "TypeError",
     "evalue": "object of type 'NoneType' has no len()",
     "output_type": "error",
     "traceback": [
      "---------------------------------------------------------------------------",
      "TypeError                                 Traceback (most recent call last)",
      "Cell In[4], line 1\n----> 1 df_corrupted, error_mask = high_level.create_errors(df_typist_book_title, 0.5)\n      2 show_result(df_typist_book_title, df_corrupted, error_mask)\n",
      "File /mnt/c/Users/njcha/OneDrive/BHT/Research/tab_err/tab_err/api/high_level.py:116, in create_errors(data, max_error_rate)\n    114 print(\"Column-type dict: \", col_type)\n    115 print(\"Column-mech dict: \", col_mechs)\n--> 116 col_num_models = build_column_number_of_models_dictionary(data, col_type, col_mechs)\n    117 col_error_rates = build_column_error_rate_dictionary(data, max_error_rate, col_num_models)\n    119 # Build MidLevel Config\n",
      "File /mnt/c/Users/njcha/OneDrive/BHT/Research/tab_err/tab_err/api/high_level.py:66, in build_column_number_of_models_dictionary(data, col_type, col_mech)\n     51 def build_column_number_of_models_dictionary(\n     52     data: pd.DataFrame,\n     53     col_type: dict[int | str, list[ErrorType]],\n     54     col_mech: dict[int | str, list[ErrorMechanism]]\n     55     ) -> dict[int | str, int]:\n     56     \"\"\"Builds a dictionary mapping from column names to the number of error models to apply to that column.\n     57 \n     58     Args:\n   (...)\n     64         dict[int | str, int]: A dictionary mapping from column names to the number of error models to apply to that column.\n     65     \"\"\"\n---> 66     return {column: len(col_type[column])*len(col_mech[column]) for column in data.columns}\n",
      "File /mnt/c/Users/njcha/OneDrive/BHT/Research/tab_err/tab_err/api/high_level.py:66, in <dictcomp>(.0)\n     51 def build_column_number_of_models_dictionary(\n     52     data: pd.DataFrame,\n     53     col_type: dict[int | str, list[ErrorType]],\n     54     col_mech: dict[int | str, list[ErrorMechanism]]\n     55     ) -> dict[int | str, int]:\n     56     \"\"\"Builds a dictionary mapping from column names to the number of error models to apply to that column.\n     57 \n     58     Args:\n   (...)\n     64         dict[int | str, int]: A dictionary mapping from column names to the number of error models to apply to that column.\n     65     \"\"\"\n---> 66     return {column: len(col_type[column])*len(col_mech[column]) for column in data.columns}\n",
      "TypeError: object of type 'NoneType' has no len()"
     ]
    }
   ],
   "source": [
    "df_corrupted, error_mask = high_level.create_errors(df_typist_book_title, 0.5)\n",
    "show_result(df_typist_book_title, df_corrupted, error_mask)"
   ]
  }
 ],
 "metadata": {
  "kernelspec": {
   "display_name": "tab-err-3BZUcCcg-py3.10",
   "language": "python",
   "name": "python3"
  },
  "language_info": {
   "codemirror_mode": {
    "name": "ipython",
    "version": 3
   },
   "file_extension": ".py",
   "mimetype": "text/x-python",
   "name": "python",
   "nbconvert_exporter": "python",
   "pygments_lexer": "ipython3",
   "version": "3.10.15"
  }
 },
 "nbformat": 4,
 "nbformat_minor": 2
}
