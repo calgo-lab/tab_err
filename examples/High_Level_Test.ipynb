{
 "cells": [
  {
   "cell_type": "markdown",
   "metadata": {},
   "source": [
    "# Test of the High-Level API\n",
    "\n",
    "For development purposes"
   ]
  },
  {
   "cell_type": "code",
   "execution_count": 1,
   "metadata": {},
   "outputs": [],
   "source": [
    "from __future__ import annotations\n",
    "\n",
    "import pandas as pd\n",
    "\n",
    "from tab_err.api import high_level"
   ]
  },
  {
   "cell_type": "code",
   "execution_count": 2,
   "metadata": {},
   "outputs": [],
   "source": [
    "def show_result(original_df: pd.DataFrame, perturbed_df: pd.DataFrame, error_mask: pd.DataFrame | None = None) -> pd.DataFrame:\n",
    "    \"\"\"Simple helper function to show DataFrames after perturbing them.\"\"\"\n",
    "    return (\n",
    "        pd.concat([original_df, perturbed_df], keys=[\"original\", \"perturbed\"], axis=1)\n",
    "        if error_mask is None\n",
    "        else pd.concat([original_df, perturbed_df, error_mask], keys=[\"original\", \"perturbed\", \"error_mask\"], axis=1)\n",
    "    )"
   ]
  },
  {
   "cell_type": "code",
   "execution_count": 3,
   "metadata": {},
   "outputs": [
    {
     "name": "stdout",
     "output_type": "stream",
     "text": [
      "typist         object\n",
      "book_title     object\n",
      "rating        float64\n",
      "dtype: object\n"
     ]
    }
   ],
   "source": [
    "df_typist_book_title = pd.DataFrame(\n",
    "    {\n",
    "        \"typist\": [\"Alice\", \"Alice\", \"Alice\", \"Bob\", \"Bob\", \"Bob\"],\n",
    "        \"book_title\": [\"To Kill a Mockingbird\", \"1984\", \"Pride and Prejudice\", \"The Great Gatsby\", \"Moby-Dick\", \"The Catcher in the Rye\"],\n",
    "        \"rating\": [1.0, 3.0, 3.0, 4.0, 2.0, 1.0],\n",
    "    }\n",
    ")\n",
    "\n",
    "\n",
    "\n",
    "print(df_typist_book_title.dtypes)"
   ]
  },
  {
   "cell_type": "markdown",
   "metadata": {},
   "source": [
    "### TEST"
   ]
  },
  {
   "cell_type": "code",
   "execution_count": 4,
   "metadata": {},
   "outputs": [
    {
     "name": "stdout",
     "output_type": "stream",
     "text": [
      "Column-type dict:  {'typist': [<tab_err.error_type._extraneous.Extraneous object at 0x7f8eadbf2920>, <tab_err.error_type._mojibake.Mojibake object at 0x7f8eadbf2410>, <tab_err.error_type._replace.Replace object at 0x7f8eadbf3d90>, <tab_err.error_type._typo.Typo object at 0x7f8eadbf0190>], 'book_title': [<tab_err.error_type._extraneous.Extraneous object at 0x7f8eadbf2920>, <tab_err.error_type._mojibake.Mojibake object at 0x7f8eadbf2410>, <tab_err.error_type._replace.Replace object at 0x7f8eadbf3d90>, <tab_err.error_type._typo.Typo object at 0x7f8eadbf0190>], 'rating': [<tab_err.error_type._add_delta.AddDelta object at 0x7f8eadbf3010>, <tab_err.error_type._wrong_unit.WrongUnit object at 0x7f8eadbf2890>]}\n",
      "Column-mech dict:  {'typist': [<tab_err.error_mechanism._enar.ENAR object at 0x7f8ed2c2a350>, <tab_err.error_mechanism._ecar.ECAR object at 0x7f8eadbf2f80>, <tab_err.error_mechanism._ear.EAR object at 0x7f8eadbf2ef0>, <tab_err.error_mechanism._ear.EAR object at 0x7f8eadbf32b0>], 'book_title': [<tab_err.error_mechanism._enar.ENAR object at 0x7f8ed2c2a350>, <tab_err.error_mechanism._ecar.ECAR object at 0x7f8eadbf2f80>, <tab_err.error_mechanism._ear.EAR object at 0x7f8eadbf3bb0>, <tab_err.error_mechanism._ear.EAR object at 0x7f8eadbf2950>], 'rating': [<tab_err.error_mechanism._enar.ENAR object at 0x7f8ed2c2a350>, <tab_err.error_mechanism._ecar.ECAR object at 0x7f8eadbf2f80>, <tab_err.error_mechanism._ear.EAR object at 0x7f8eadbf2770>, <tab_err.error_mechanism._ear.EAR object at 0x7f8eadbf3730>]}\n",
      "In error_type.apply() the datatype of typist is object. The type being applied is <tab_err.error_type._extraneous.Extraneous object at 0x7f8eadbf2920>\n",
      "In error_type.apply() the datatype of typist is object. The type being applied is <tab_err.error_type._mojibake.Mojibake object at 0x7f8eadbf2410>\n",
      "In error_type.apply() the datatype of typist is object. The type being applied is <tab_err.error_type._replace.Replace object at 0x7f8eadbf3d90>\n",
      "In error_type.apply() the datatype of typist is object. The type being applied is <tab_err.error_type._typo.Typo object at 0x7f8eadbf0190>\n",
      "In error_type.apply() the datatype of typist is object. The type being applied is <tab_err.error_type._extraneous.Extraneous object at 0x7f8eadbf2920>\n",
      "In error_type.apply() the datatype of typist is object. The type being applied is <tab_err.error_type._mojibake.Mojibake object at 0x7f8eadbf2410>\n",
      "In error_type.apply() the datatype of typist is object. The type being applied is <tab_err.error_type._replace.Replace object at 0x7f8eadbf3d90>\n",
      "In error_type.apply() the datatype of typist is object. The type being applied is <tab_err.error_type._typo.Typo object at 0x7f8eadbf0190>\n",
      "In error_type.apply() the datatype of typist is object. The type being applied is <tab_err.error_type._extraneous.Extraneous object at 0x7f8eadbf2920>\n",
      "In error_type.apply() the datatype of typist is object. The type being applied is <tab_err.error_type._mojibake.Mojibake object at 0x7f8eadbf2410>\n",
      "In error_type.apply() the datatype of typist is object. The type being applied is <tab_err.error_type._replace.Replace object at 0x7f8eadbf3d90>\n",
      "In error_type.apply() the datatype of typist is object. The type being applied is <tab_err.error_type._typo.Typo object at 0x7f8eadbf0190>\n",
      "In error_type.apply() the datatype of typist is object. The type being applied is <tab_err.error_type._extraneous.Extraneous object at 0x7f8eadbf2920>\n",
      "In error_type.apply() the datatype of typist is object. The type being applied is <tab_err.error_type._mojibake.Mojibake object at 0x7f8eadbf2410>\n",
      "In error_type.apply() the datatype of typist is object. The type being applied is <tab_err.error_type._replace.Replace object at 0x7f8eadbf3d90>\n",
      "In error_type.apply() the datatype of typist is object. The type being applied is <tab_err.error_type._typo.Typo object at 0x7f8eadbf0190>\n",
      "In error_type.apply() the datatype of book_title is object. The type being applied is <tab_err.error_type._extraneous.Extraneous object at 0x7f8eadbf2920>\n",
      "In error_type.apply() the datatype of book_title is object. The type being applied is <tab_err.error_type._mojibake.Mojibake object at 0x7f8eadbf2410>\n",
      "In error_type.apply() the datatype of book_title is object. The type being applied is <tab_err.error_type._replace.Replace object at 0x7f8eadbf3d90>\n",
      "In error_type.apply() the datatype of book_title is object. The type being applied is <tab_err.error_type._typo.Typo object at 0x7f8eadbf0190>\n",
      "In error_type.apply() the datatype of book_title is object. The type being applied is <tab_err.error_type._extraneous.Extraneous object at 0x7f8eadbf2920>\n",
      "In error_type.apply() the datatype of book_title is object. The type being applied is <tab_err.error_type._mojibake.Mojibake object at 0x7f8eadbf2410>\n",
      "In error_type.apply() the datatype of book_title is object. The type being applied is <tab_err.error_type._replace.Replace object at 0x7f8eadbf3d90>\n",
      "In error_type.apply() the datatype of book_title is object. The type being applied is <tab_err.error_type._typo.Typo object at 0x7f8eadbf0190>\n",
      "In error_type.apply() the datatype of book_title is object. The type being applied is <tab_err.error_type._extraneous.Extraneous object at 0x7f8eadbf2920>\n",
      "In error_type.apply() the datatype of book_title is object. The type being applied is <tab_err.error_type._mojibake.Mojibake object at 0x7f8eadbf2410>\n",
      "In error_type.apply() the datatype of book_title is object. The type being applied is <tab_err.error_type._replace.Replace object at 0x7f8eadbf3d90>\n",
      "In error_type.apply() the datatype of book_title is object. The type being applied is <tab_err.error_type._typo.Typo object at 0x7f8eadbf0190>\n",
      "In error_type.apply() the datatype of book_title is object. The type being applied is <tab_err.error_type._extraneous.Extraneous object at 0x7f8eadbf2920>\n",
      "In error_type.apply() the datatype of book_title is object. The type being applied is <tab_err.error_type._mojibake.Mojibake object at 0x7f8eadbf2410>\n",
      "In error_type.apply() the datatype of book_title is object. The type being applied is <tab_err.error_type._replace.Replace object at 0x7f8eadbf3d90>\n",
      "In error_type.apply() the datatype of book_title is object. The type being applied is <tab_err.error_type._typo.Typo object at 0x7f8eadbf0190>\n",
      "In error_type.apply() the datatype of rating is float64. The type being applied is <tab_err.error_type._add_delta.AddDelta object at 0x7f8eadbf3010>\n",
      "In error_type.apply() the datatype of rating is float64. The type being applied is <tab_err.error_type._wrong_unit.WrongUnit object at 0x7f8eadbf2890>\n",
      "In error_type.apply() the datatype of rating is float64. The type being applied is <tab_err.error_type._add_delta.AddDelta object at 0x7f8eadbf3010>\n",
      "In error_type.apply() the datatype of rating is float64. The type being applied is <tab_err.error_type._wrong_unit.WrongUnit object at 0x7f8eadbf2890>\n",
      "In error_type.apply() the datatype of rating is float64. The type being applied is <tab_err.error_type._add_delta.AddDelta object at 0x7f8eadbf3010>\n",
      "In error_type.apply() the datatype of rating is float64. The type being applied is <tab_err.error_type._wrong_unit.WrongUnit object at 0x7f8eadbf2890>\n",
      "In error_type.apply() the datatype of rating is float64. The type being applied is <tab_err.error_type._add_delta.AddDelta object at 0x7f8eadbf3010>\n",
      "In error_type.apply() the datatype of rating is float64. The type being applied is <tab_err.error_type._wrong_unit.WrongUnit object at 0x7f8eadbf2890>\n"
     ]
    },
    {
     "name": "stderr",
     "output_type": "stream",
     "text": [
      "/mnt/c/Users/njcha/OneDrive/BHT/Research/tab_err/tab_err/api/high_level.py:98: UserWarning: Given the error rate for the column (typist) of: 0.03125 and the length of this columns of: 6,                 0 Errors will be introduced.\n",
      "  warnings.warn(msg, stacklevel=1)\n",
      "/mnt/c/Users/njcha/OneDrive/BHT/Research/tab_err/tab_err/api/high_level.py:98: UserWarning: Given the error rate for the column (book_title) of: 0.03125 and the length of this columns of: 6,                 0 Errors will be introduced.\n",
      "  warnings.warn(msg, stacklevel=1)\n",
      "/mnt/c/Users/njcha/OneDrive/BHT/Research/tab_err/tab_err/api/high_level.py:98: UserWarning: Given the error rate for the column (rating) of: 0.0625 and the length of this columns of: 6,                 0 Errors will be introduced.\n",
      "  warnings.warn(msg, stacklevel=1)\n"
     ]
    },
    {
     "data": {
      "text/html": [
       "<div>\n",
       "<style scoped>\n",
       "    .dataframe tbody tr th:only-of-type {\n",
       "        vertical-align: middle;\n",
       "    }\n",
       "\n",
       "    .dataframe tbody tr th {\n",
       "        vertical-align: top;\n",
       "    }\n",
       "\n",
       "    .dataframe thead tr th {\n",
       "        text-align: left;\n",
       "    }\n",
       "</style>\n",
       "<table border=\"1\" class=\"dataframe\">\n",
       "  <thead>\n",
       "    <tr>\n",
       "      <th></th>\n",
       "      <th colspan=\"3\" halign=\"left\">original</th>\n",
       "      <th colspan=\"3\" halign=\"left\">perturbed</th>\n",
       "      <th colspan=\"3\" halign=\"left\">error_mask</th>\n",
       "    </tr>\n",
       "    <tr>\n",
       "      <th></th>\n",
       "      <th>typist</th>\n",
       "      <th>book_title</th>\n",
       "      <th>rating</th>\n",
       "      <th>typist</th>\n",
       "      <th>book_title</th>\n",
       "      <th>rating</th>\n",
       "      <th>typist</th>\n",
       "      <th>book_title</th>\n",
       "      <th>rating</th>\n",
       "    </tr>\n",
       "  </thead>\n",
       "  <tbody>\n",
       "    <tr>\n",
       "      <th>0</th>\n",
       "      <td>Alice</td>\n",
       "      <td>To Kill a Mockingbird</td>\n",
       "      <td>1.0</td>\n",
       "      <td>Alice</td>\n",
       "      <td>To Kill a Mockingbird</td>\n",
       "      <td>1.0</td>\n",
       "      <td>False</td>\n",
       "      <td>False</td>\n",
       "      <td>False</td>\n",
       "    </tr>\n",
       "    <tr>\n",
       "      <th>1</th>\n",
       "      <td>Alice</td>\n",
       "      <td>1984</td>\n",
       "      <td>3.0</td>\n",
       "      <td>Alice</td>\n",
       "      <td>1984</td>\n",
       "      <td>3.0</td>\n",
       "      <td>False</td>\n",
       "      <td>False</td>\n",
       "      <td>False</td>\n",
       "    </tr>\n",
       "    <tr>\n",
       "      <th>2</th>\n",
       "      <td>Alice</td>\n",
       "      <td>Pride and Prejudice</td>\n",
       "      <td>3.0</td>\n",
       "      <td>Alice</td>\n",
       "      <td>Pride and Prejudice</td>\n",
       "      <td>3.0</td>\n",
       "      <td>False</td>\n",
       "      <td>False</td>\n",
       "      <td>False</td>\n",
       "    </tr>\n",
       "    <tr>\n",
       "      <th>3</th>\n",
       "      <td>Bob</td>\n",
       "      <td>The Great Gatsby</td>\n",
       "      <td>4.0</td>\n",
       "      <td>Bob</td>\n",
       "      <td>The Great Gatsby</td>\n",
       "      <td>4.0</td>\n",
       "      <td>False</td>\n",
       "      <td>False</td>\n",
       "      <td>False</td>\n",
       "    </tr>\n",
       "    <tr>\n",
       "      <th>4</th>\n",
       "      <td>Bob</td>\n",
       "      <td>Moby-Dick</td>\n",
       "      <td>2.0</td>\n",
       "      <td>Bob</td>\n",
       "      <td>Moby-Dick</td>\n",
       "      <td>2.0</td>\n",
       "      <td>False</td>\n",
       "      <td>False</td>\n",
       "      <td>False</td>\n",
       "    </tr>\n",
       "    <tr>\n",
       "      <th>5</th>\n",
       "      <td>Bob</td>\n",
       "      <td>The Catcher in the Rye</td>\n",
       "      <td>1.0</td>\n",
       "      <td>Bob</td>\n",
       "      <td>The Catcher in the Rye</td>\n",
       "      <td>1.0</td>\n",
       "      <td>False</td>\n",
       "      <td>False</td>\n",
       "      <td>False</td>\n",
       "    </tr>\n",
       "  </tbody>\n",
       "</table>\n",
       "</div>"
      ],
      "text/plain": [
       "  original                                perturbed                          \\\n",
       "    typist              book_title rating    typist              book_title   \n",
       "0    Alice   To Kill a Mockingbird    1.0     Alice   To Kill a Mockingbird   \n",
       "1    Alice                    1984    3.0     Alice                    1984   \n",
       "2    Alice     Pride and Prejudice    3.0     Alice     Pride and Prejudice   \n",
       "3      Bob        The Great Gatsby    4.0       Bob        The Great Gatsby   \n",
       "4      Bob               Moby-Dick    2.0       Bob               Moby-Dick   \n",
       "5      Bob  The Catcher in the Rye    1.0       Bob  The Catcher in the Rye   \n",
       "\n",
       "         error_mask                    \n",
       "  rating     typist book_title rating  \n",
       "0    1.0      False      False  False  \n",
       "1    3.0      False      False  False  \n",
       "2    3.0      False      False  False  \n",
       "3    4.0      False      False  False  \n",
       "4    2.0      False      False  False  \n",
       "5    1.0      False      False  False  "
      ]
     },
     "execution_count": 4,
     "metadata": {},
     "output_type": "execute_result"
    }
   ],
   "source": [
    "df_corrupted, error_mask = high_level.create_errors(df_typist_book_title, 0.5)\n",
    "show_result(df_typist_book_title, df_corrupted, error_mask)"
   ]
  }
 ],
 "metadata": {
  "kernelspec": {
   "display_name": "tab-err-3BZUcCcg-py3.10",
   "language": "python",
   "name": "python3"
  },
  "language_info": {
   "codemirror_mode": {
    "name": "ipython",
    "version": 3
   },
   "file_extension": ".py",
   "mimetype": "text/x-python",
   "name": "python",
   "nbconvert_exporter": "python",
   "pygments_lexer": "ipython3",
   "version": "3.10.15"
  }
 },
 "nbformat": 4,
 "nbformat_minor": 2
}
